{
 "cells": [
  {
   "cell_type": "code",
   "execution_count": 7,
   "metadata": {},
   "outputs": [],
   "source": [
    "import matplotlib.pyplot as plt\n",
    "from util import transcribe, calculate_wer, load_model"
   ]
  },
  {
   "cell_type": "code",
   "execution_count": 8,
   "metadata": {},
   "outputs": [],
   "source": [
    "tests = [f'out{i:03d}' for i in range(50)]\n",
    "audio_paths_30 = [f\"test_data/30s/{t}.wav\" for t in tests]\n",
    "transcript_paths_30 = [f\"test_transcripts_before/30s/{t}.txt\" for t in tests]\n",
    "audio_paths_5 = [f\"test_data/5s/{t}.wav\" for t in tests]\n",
    "transcript_paths_5 = [f\"test_transcripts_before/5s/{t}.txt\" for t in tests]"
   ]
  },
  {
   "cell_type": "code",
   "execution_count": 9,
   "metadata": {},
   "outputs": [],
   "source": [
    "def eval(model, audio_paths, transcript_paths):\n",
    "  WER = []\n",
    "  TIME = []\n",
    "\n",
    "  for audio_path, transcript_path in zip(audio_paths, transcript_paths):\n",
    "      hypothesis, elapsed_time = transcribe(model, audio_path)\n",
    "      with open(transcript_path, \"r\") as f:\n",
    "          reference = f.read()\n",
    "\n",
    "      TIME.append(elapsed_time)\n",
    "\n",
    "      wer = calculate_wer(hypothesis, reference)\n",
    "      WER.append(wer)\n",
    "      print(f\"Transcription: {hypothesis}\")\n",
    "      print(f\"Reference: {reference}\")\n",
    "      print(f\"Elapsed time: {elapsed_time:.4f}s\")\n",
    "      print(f\"WER: {wer:.4f}\")\n",
    "      print()\n",
    "  return WER, TIME"
   ]
  },
  {
   "cell_type": "code",
   "execution_count": 10,
   "metadata": {},
   "outputs": [],
   "source": [
    "\n",
    "models = {\n",
    "  \"5s_with_hueristic\": load_model(\"tiny.en\", ff=True),\n",
    "  \"5s_without_hueristic\": load_model(\"tiny.en\", ff=False),\n",
    "  \"30s_with_hueristic\": load_model(\"tiny.en\", ff=True),\n",
    "  \"30s_without_hueristic\": load_model(\"tiny.en\", ff=False),\n",
    "}\n",
    "\n",
    "metrics = {}"
   ]
  },
  {
   "cell_type": "code",
   "execution_count": 11,
   "metadata": {},
   "outputs": [
    {
     "name": "stdout",
     "output_type": "stream",
     "text": [
      "Model: 5s_with_hueristic\n"
     ]
    },
    {
     "name": "stderr",
     "output_type": "stream",
     "text": [
      "/Users/emm12/repos/whisper/whisper/transcribe.py:132: UserWarning: FP16 is not supported on CPU; using FP32 instead\n",
      "  warnings.warn(\"FP16 is not supported on CPU; using FP32 instead\")\n"
     ]
    },
    {
     "name": "stdout",
     "output_type": "stream",
     "text": [
      "Transcription:  The following content is provided under a Creative Commons license.\n",
      "Reference:  The following content is provided under a Creative Commons license.\n",
      "Elapsed time: 0.4717s\n",
      "WER: 0.0000\n",
      "\n"
     ]
    },
    {
     "name": "stderr",
     "output_type": "stream",
     "text": [
      "/Users/emm12/repos/whisper/whisper/transcribe.py:132: UserWarning: FP16 is not supported on CPU; using FP32 instead\n",
      "  warnings.warn(\"FP16 is not supported on CPU; using FP32 instead\")\n"
     ]
    },
    {
     "name": "stdout",
     "output_type": "stream",
     "text": [
      "Transcription:  Your support will help MIT OpenCourseWare continue to offer high quality educational reasons.\n",
      "Reference:  Your support will help MIT OpenCourseWare continue to offer high quality educational reasons.\n",
      "Elapsed time: 0.5598s\n",
      "WER: 0.0000\n",
      "\n"
     ]
    },
    {
     "name": "stderr",
     "output_type": "stream",
     "text": [
      "/Users/emm12/repos/whisper/whisper/transcribe.py:132: UserWarning: FP16 is not supported on CPU; using FP32 instead\n",
      "  warnings.warn(\"FP16 is not supported on CPU; using FP32 instead\")\n"
     ]
    },
    {
     "name": "stdout",
     "output_type": "stream",
     "text": [
      "Transcription:  sources for free. To make a donation or to view additional materials from hundreds of MIT\n",
      "Reference:  sources for free. To make a donation or to view additional materials from hundreds of MIT\n",
      "Elapsed time: 0.7022s\n",
      "WER: 0.0000\n",
      "\n"
     ]
    },
    {
     "name": "stderr",
     "output_type": "stream",
     "text": [
      "/Users/emm12/repos/whisper/whisper/transcribe.py:132: UserWarning: FP16 is not supported on CPU; using FP32 instead\n",
      "  warnings.warn(\"FP16 is not supported on CPU; using FP32 instead\")\n"
     ]
    },
    {
     "name": "stdout",
     "output_type": "stream",
     "text": [
      "Transcription:  courses. Visit MIT OpenCourseWare at ocw.mit.\n",
      "Reference:  courses. Visit MIT OpenCourseWare at ocw.mit.\n",
      "Elapsed time: 0.8253s\n",
      "WER: 0.0000\n",
      "\n"
     ]
    },
    {
     "name": "stderr",
     "output_type": "stream",
     "text": [
      "/Users/emm12/repos/whisper/whisper/transcribe.py:132: UserWarning: FP16 is not supported on CPU; using FP32 instead\n",
      "  warnings.warn(\"FP16 is not supported on CPU; using FP32 instead\")\n"
     ]
    },
    {
     "name": "stdout",
     "output_type": "stream",
     "text": [
      "Transcription:  So welcome to...\n",
      "Reference:  So welcome to...\n",
      "Elapsed time: 0.5283s\n",
      "WER: 0.0000\n",
      "\n",
      "Model: 5s_without_hueristic\n"
     ]
    },
    {
     "name": "stderr",
     "output_type": "stream",
     "text": [
      "/Users/emm12/repos/whisper/whisper/transcribe.py:132: UserWarning: FP16 is not supported on CPU; using FP32 instead\n",
      "  warnings.warn(\"FP16 is not supported on CPU; using FP32 instead\")\n"
     ]
    },
    {
     "name": "stdout",
     "output_type": "stream",
     "text": [
      "Transcription:  The following content is provided under a Creative Commons license.\n",
      "Reference:  The following content is provided under a Creative Commons license.\n",
      "Elapsed time: 0.9272s\n",
      "WER: 0.0000\n",
      "\n"
     ]
    },
    {
     "name": "stderr",
     "output_type": "stream",
     "text": [
      "/Users/emm12/repos/whisper/whisper/transcribe.py:132: UserWarning: FP16 is not supported on CPU; using FP32 instead\n",
      "  warnings.warn(\"FP16 is not supported on CPU; using FP32 instead\")\n"
     ]
    },
    {
     "name": "stdout",
     "output_type": "stream",
     "text": [
      "Transcription:  Your support will help MIT OpenCourseWare continue to offer high quality educational reasons.\n",
      "Reference:  Your support will help MIT OpenCourseWare continue to offer high quality educational reasons.\n",
      "Elapsed time: 1.0104s\n",
      "WER: 0.0000\n",
      "\n"
     ]
    },
    {
     "name": "stderr",
     "output_type": "stream",
     "text": [
      "/Users/emm12/repos/whisper/whisper/transcribe.py:132: UserWarning: FP16 is not supported on CPU; using FP32 instead\n",
      "  warnings.warn(\"FP16 is not supported on CPU; using FP32 instead\")\n"
     ]
    },
    {
     "name": "stdout",
     "output_type": "stream",
     "text": [
      "Transcription:  sources for free. To make a donation or to view additional materials from hundreds of MIT\n",
      "Reference:  sources for free. To make a donation or to view additional materials from hundreds of MIT\n",
      "Elapsed time: 0.8818s\n",
      "WER: 0.0000\n",
      "\n"
     ]
    },
    {
     "name": "stderr",
     "output_type": "stream",
     "text": [
      "/Users/emm12/repos/whisper/whisper/transcribe.py:132: UserWarning: FP16 is not supported on CPU; using FP32 instead\n",
      "  warnings.warn(\"FP16 is not supported on CPU; using FP32 instead\")\n"
     ]
    },
    {
     "name": "stdout",
     "output_type": "stream",
     "text": [
      "Transcription:  courses. Visit MIT OpenCourseWare at ocw.mit.\n",
      "Reference:  courses. Visit MIT OpenCourseWare at ocw.mit.\n",
      "Elapsed time: 0.8554s\n",
      "WER: 0.0000\n",
      "\n"
     ]
    },
    {
     "name": "stderr",
     "output_type": "stream",
     "text": [
      "/Users/emm12/repos/whisper/whisper/transcribe.py:132: UserWarning: FP16 is not supported on CPU; using FP32 instead\n",
      "  warnings.warn(\"FP16 is not supported on CPU; using FP32 instead\")\n"
     ]
    },
    {
     "name": "stdout",
     "output_type": "stream",
     "text": [
      "Transcription:  So welcome to...\n",
      "Reference:  So welcome to...\n",
      "Elapsed time: 0.7210s\n",
      "WER: 0.0000\n",
      "\n",
      "Model: 30s_with_hueristic\n"
     ]
    },
    {
     "name": "stderr",
     "output_type": "stream",
     "text": [
      "/Users/emm12/repos/whisper/whisper/transcribe.py:132: UserWarning: FP16 is not supported on CPU; using FP32 instead\n",
      "  warnings.warn(\"FP16 is not supported on CPU; using FP32 instead\")\n"
     ]
    },
    {
     "name": "stdout",
     "output_type": "stream",
     "text": [
      "Transcription:  The following content is provided under a Creative Commons license. Your support will help MIT OpenCourseWare continue to offer high quality educational resources for free. To make a donation or to view additional materials from hundreds of MIT courses, visit MIT OpenCourseWare at OCW-U-U-U-U. So welcome to 6172. My name is Charles Leiserson, and I am\n",
      "Reference:  The following content is provided under a Creative Commons license. Your support will help MIT OpenCourseWare continue to offer high quality educational resources for free. To make a donation or to view additional materials from hundreds of MIT courses, visit MIT OpenCourseWare at ocw.mit.edu. So welcome to 6172. My name is Charles Lyerson, and I am\n",
      "Elapsed time: 3.8808s\n",
      "WER: 0.0357\n",
      "\n"
     ]
    },
    {
     "name": "stderr",
     "output_type": "stream",
     "text": [
      "/Users/emm12/repos/whisper/whisper/transcribe.py:132: UserWarning: FP16 is not supported on CPU; using FP32 instead\n",
      "  warnings.warn(\"FP16 is not supported on CPU; using FP32 instead\")\n"
     ]
    },
    {
     "name": "stdout",
     "output_type": "stream",
     "text": [
      "Transcription:  One of the two lecturers this term, the other is Professor Julian Schun. We're both in EECS and in C-Sale on the seventh floor of the Gates Building. If you don't know it, you are in Performance Engine Engine Engine Engine Engine Engine Engine Engine Engine Engine Engine Engine Engine Engine Engine Engine Engine I want to start today by talking.\n",
      "Reference:  One of the two lecturers this term, the other is Professor Julian Shun. We're both in EECS and in C-Sale on the seventh floor of the Gates Building. If you don't know it, you are in performance engineering of software systems. So if this is the wrong, if you found yourself in the wrong place, now's the time to exit. I want to start today by\n",
      "Elapsed time: 2.5707s\n",
      "WER: 0.3788\n",
      "\n"
     ]
    },
    {
     "name": "stderr",
     "output_type": "stream",
     "text": [
      "/Users/emm12/repos/whisper/whisper/transcribe.py:132: UserWarning: FP16 is not supported on CPU; using FP32 instead\n",
      "  warnings.warn(\"FP16 is not supported on CPU; using FP32 instead\")\n"
     ]
    },
    {
     "name": "stdout",
     "output_type": "stream",
     "text": [
      "Transcription:  talking a little bit about why we do performance engineering. And then I'll do a little bit of administration. And then sort of dive into sort of a case study that'll give you a good sense of some of the things that we're gonna do during the term. I'll do the course then it's like why should you listen to the administration, right?\n",
      "Reference:  talking a little bit about why we do performance engineering. And then I'll do a little bit of administration, and then sort of dive into sort of a case study that'll give you a good sense of some of the things that we're gonna do during the term. I put the administration in the middle, because it's like if you don't, from me telling you about the course, you don't wanna do the course, then it's like why should you listen to the administration, right?\n",
      "Elapsed time: 2.0687s\n",
      "WER: 0.2941\n",
      "\n"
     ]
    },
    {
     "name": "stderr",
     "output_type": "stream",
     "text": [
      "/Users/emm12/repos/whisper/whisper/transcribe.py:132: UserWarning: FP16 is not supported on CPU; using FP32 instead\n",
      "  warnings.warn(\"FP16 is not supported on CPU; using FP32 instead\")\n"
     ]
    },
    {
     "name": "stdout",
     "output_type": "stream",
     "text": [
      "Transcription:  It's like. So let's just dive right in, OK? So the first thing to always understand whenever you're doing something is a perspective on what matters and what you're doing. So we're going to study the whole term we're going to do software performance engineer, engineer, and engineer. And we're going to do software performance engineer. And we're going to do software performance engineer. And our theory of the top of what people are interested in when they're building.\n",
      "Reference:  It's like, so let's just dive right in, okay? So the first thing to always understand whenever you're doing something is a perspective on what matters and what you're doing. So we're going to study the whole term we're going to do software performance engineering. And so this is kind of interesting because it turns out that performance is usually not at the top of what people are interested in when they're building.\n",
      "Elapsed time: 18.0839s\n",
      "WER: 0.3288\n",
      "\n"
     ]
    },
    {
     "name": "stderr",
     "output_type": "stream",
     "text": [
      "/Users/emm12/repos/whisper/whisper/transcribe.py:132: UserWarning: FP16 is not supported on CPU; using FP32 instead\n",
      "  warnings.warn(\"FP16 is not supported on CPU; using FP32 instead\")\n"
     ]
    },
    {
     "name": "stdout",
     "output_type": "stream",
     "text": [
      "Transcription:  software, okay? What are some of the things that are more important than software? Guess I mean performance? Yeah! D Bye Bye. Ed LIne's? Good. Cost. Correctness. Correctness. Continability. You go to your moose, you go to your moose, you go with which you are going to need. For example, we live in a really good place. But what if we live here in a way that very are more important than performance.\n",
      "Reference:  software. What are some of the things that are more important than software? That's probably then performance. Yeah. Deadlines. Deadlines. Good. Cost. Correctness. Extensibility. Yeah, I'm going to go on and on. I think that you folks could probably make a pretty long list. I made a short list of all the kinds of things that are more important than performance.\n",
      "Elapsed time: 17.8002s\n",
      "WER: 0.8033\n",
      "\n",
      "Model: 30s_without_hueristic\n"
     ]
    },
    {
     "name": "stderr",
     "output_type": "stream",
     "text": [
      "/Users/emm12/repos/whisper/whisper/transcribe.py:132: UserWarning: FP16 is not supported on CPU; using FP32 instead\n",
      "  warnings.warn(\"FP16 is not supported on CPU; using FP32 instead\")\n"
     ]
    },
    {
     "name": "stdout",
     "output_type": "stream",
     "text": [
      "Transcription:  The following content is provided under a Creative Commons license. Your support will help MIT OpenCourseWare continue to offer high quality educational resources for free. To make a donation or to view additional materials from hundreds of MIT courses, visit MIT OpenCourseWare at ocw.mit.edu. So welcome to 6172. My name is Charles Lyerson, and I am\n",
      "Reference:  The following content is provided under a Creative Commons license. Your support will help MIT OpenCourseWare continue to offer high quality educational resources for free. To make a donation or to view additional materials from hundreds of MIT courses, visit MIT OpenCourseWare at ocw.mit.edu. So welcome to 6172. My name is Charles Lyerson, and I am\n",
      "Elapsed time: 2.5369s\n",
      "WER: 0.0000\n",
      "\n"
     ]
    },
    {
     "name": "stderr",
     "output_type": "stream",
     "text": [
      "/Users/emm12/repos/whisper/whisper/transcribe.py:132: UserWarning: FP16 is not supported on CPU; using FP32 instead\n",
      "  warnings.warn(\"FP16 is not supported on CPU; using FP32 instead\")\n"
     ]
    },
    {
     "name": "stdout",
     "output_type": "stream",
     "text": [
      "Transcription:  One of the two lecturers this term, the other is Professor Julian Shun. We're both in EECS and in C-Sale on the seventh floor of the Gates Building. If you don't know it, you are in performance engineering of software systems. So if this is the wrong, if you found yourself in the wrong place, now's the time to exit. I want to start today by\n",
      "Reference:  One of the two lecturers this term, the other is Professor Julian Shun. We're both in EECS and in C-Sale on the seventh floor of the Gates Building. If you don't know it, you are in performance engineering of software systems. So if this is the wrong, if you found yourself in the wrong place, now's the time to exit. I want to start today by\n",
      "Elapsed time: 3.0533s\n",
      "WER: 0.0000\n",
      "\n"
     ]
    },
    {
     "name": "stderr",
     "output_type": "stream",
     "text": [
      "/Users/emm12/repos/whisper/whisper/transcribe.py:132: UserWarning: FP16 is not supported on CPU; using FP32 instead\n",
      "  warnings.warn(\"FP16 is not supported on CPU; using FP32 instead\")\n"
     ]
    },
    {
     "name": "stdout",
     "output_type": "stream",
     "text": [
      "Transcription:  talking a little bit about why we do performance engineering. And then I'll do a little bit of administration, and then sort of dive into sort of a case study that'll give you a good sense of some of the things that we're gonna do during the term. I put the administration in the middle, because it's like if you don't, from me telling you about the course, you don't wanna do the course, then it's like why should you listen to the administration, right?\n",
      "Reference:  talking a little bit about why we do performance engineering. And then I'll do a little bit of administration, and then sort of dive into sort of a case study that'll give you a good sense of some of the things that we're gonna do during the term. I put the administration in the middle, because it's like if you don't, from me telling you about the course, you don't wanna do the course, then it's like why should you listen to the administration, right?\n",
      "Elapsed time: 3.7026s\n",
      "WER: 0.0000\n",
      "\n"
     ]
    },
    {
     "name": "stderr",
     "output_type": "stream",
     "text": [
      "/Users/emm12/repos/whisper/whisper/transcribe.py:132: UserWarning: FP16 is not supported on CPU; using FP32 instead\n",
      "  warnings.warn(\"FP16 is not supported on CPU; using FP32 instead\")\n"
     ]
    },
    {
     "name": "stdout",
     "output_type": "stream",
     "text": [
      "Transcription:  It's like, so let's just dive right in, okay? So the first thing to always understand whenever you're doing something is a perspective on what matters and what you're doing. So we're going to study the whole term we're going to do software performance engineering. And so this is kind of interesting because it turns out that performance is usually not at the top of what people are interested in when they're building.\n",
      "Reference:  It's like, so let's just dive right in, okay? So the first thing to always understand whenever you're doing something is a perspective on what matters and what you're doing. So we're going to study the whole term we're going to do software performance engineering. And so this is kind of interesting because it turns out that performance is usually not at the top of what people are interested in when they're building.\n",
      "Elapsed time: 4.0838s\n",
      "WER: 0.0000\n",
      "\n"
     ]
    },
    {
     "name": "stderr",
     "output_type": "stream",
     "text": [
      "/Users/emm12/repos/whisper/whisper/transcribe.py:132: UserWarning: FP16 is not supported on CPU; using FP32 instead\n",
      "  warnings.warn(\"FP16 is not supported on CPU; using FP32 instead\")\n"
     ]
    },
    {
     "name": "stdout",
     "output_type": "stream",
     "text": [
      "Transcription:  software. What are some of the things that are more important than software? That's probably then performance. Yeah. Deadlines. Deadlines. Good. Cost. Correctness. Extensibility. Yeah, I'm going to go on and on. I think that you folks could probably make a pretty long list. I made a short list of all the kinds of things that are more important than performance.\n",
      "Reference:  software. What are some of the things that are more important than software? That's probably then performance. Yeah. Deadlines. Deadlines. Good. Cost. Correctness. Extensibility. Yeah, I'm going to go on and on. I think that you folks could probably make a pretty long list. I made a short list of all the kinds of things that are more important than performance.\n",
      "Elapsed time: 2.4376s\n",
      "WER: 0.0000\n",
      "\n"
     ]
    }
   ],
   "source": [
    "for model_name, model in models.items():\n",
    "  print(f\"Model: {model_name}\")\n",
    "  if \"30s\" in model_name:\n",
    "      WER, TIME = eval(model, audio_paths_30, transcript_paths_30)\n",
    "  else:\n",
    "      WER, TIME = eval(model, audio_paths_5, transcript_paths_5)\n",
    "  metrics[model_name] = {\n",
    "      \"WER\": WER,\n",
    "      \"TIME\": TIME,\n",
    "  }\n"
   ]
  },
  {
   "cell_type": "code",
   "execution_count": 6,
   "metadata": {},
   "outputs": [
    {
     "data": {
      "image/png": "[encoded data removed]",
      "text/plain": [
       "<Figure size 1000x1000 with 2 Axes>"
      ]
     },
     "metadata": {},
     "output_type": "display_data"
    }
   ],
   "source": [
    "\n",
    "# bar chart\n",
    "fig, ax = plt.subplots(2, 1, figsize=(10, 10))\n",
    "for model_name, metric in metrics.items():\n",
    "  ax[0].bar(model_name, sum(metric[\"WER\"]) / len(metric[\"WER\"]), label=model_name)\n",
    "  ax[1].bar(model_name, sum(metric[\"TIME\"]) / len(metric[\"TIME\"]), label=model_name)\n",
    "\n",
    "ax[0].set_title(\"Average WER\")\n",
    "ax[0].set_ylabel(\"WER\")\n",
    "ax[0].legend()\n",
    "ax[1].set_title(\"Average Time\")\n",
    "ax[1].set_ylabel(\"Time (s)\")\n",
    "ax[1].legend()\n",
    "plt.show()"
   ]
  },
  {
   "cell_type": "code",
   "execution_count": null,
   "metadata": {},
   "outputs": [],
   "source": []
  }
 ],
 "metadata": {
  "kernelspec": {
   "display_name": "venv",
   "language": "python",
   "name": "python3"
  },
  "language_info": {
   "codemirror_mode": {
    "name": "ipython",
    "version": 3
   },
   "file_extension": ".py",
   "mimetype": "text/x-python",
   "name": "python",
   "nbconvert_exporter": "python",
   "pygments_lexer": "ipython3",
   "version": "3.13.1"
  }
 },
 "nbformat": 4,
 "nbformat_minor": 2
}
